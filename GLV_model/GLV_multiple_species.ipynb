{
  "nbformat": 4,
  "nbformat_minor": 0,
  "metadata": {
    "colab": {
      "name": "GLV-multiple species.ipynb",
      "provenance": [],
      "authorship_tag": "ABX9TyN0i9LQHbB07wXylTFhU76x",
      "include_colab_link": true
    },
    "kernelspec": {
      "name": "python3",
      "display_name": "Python 3"
    },
    "language_info": {
      "name": "python"
    }
  },
  "cells": [
    {
      "cell_type": "markdown",
      "metadata": {
        "id": "view-in-github",
        "colab_type": "text"
      },
      "source": [
        "<a href=\"https://colab.research.google.com/github/OnlyBelter/HKBU/blob/main/GLV_model/GLV_multiple_species.ipynb\" target=\"_parent\"><img src=\"https://colab.research.google.com/assets/colab-badge.svg\" alt=\"Open In Colab\"/></a>"
      ]
    },
    {
      "cell_type": "code",
      "metadata": {
        "id": "mh97ELtNIcgO"
      },
      "source": [
        "\n"
      ],
      "execution_count": null,
      "outputs": []
    },
    {
      "cell_type": "markdown",
      "metadata": {
        "id": "CYkRzUg2J5RU"
      },
      "source": [
        "### 4. the Generalized Lotka-Volterra model (广义LV模型)\n",
        "- ref: https://stefanoallesina.github.io/Sao_Paulo_School/intro.html\n",
        "\n",
        "#### 4.1 A single population\n",
        "$$\\frac{d_{N}}{d_t} = N (r + a N)$$\n",
        "\n",
        "Same as the Verhulst Equation.\n",
        "\n",
        "#### 4.2 Multi-species\n",
        "$$\\frac{d_{x(t)}}{d_t} = D(x(t))(r + Ax(t))$$\n",
        "\n",
        "where $x(t)$ is a (column) vector with length $n$ containing the densities of all populations $1,…,n$ at time $t$, \n",
        "\n",
        "$r$ is a vector of “intrinsic growth rates” (or death rates, when negative), measuring the growth (decline) of population $i$ when grown alone at low density,\n",
        "\n",
        "and $A$ is a $n\\times n$ matrix of interaction coefficients.\n",
        "\n",
        "We use $D(x)$ to denote the diagonal matrix with $x$ on the diagonal."
      ]
    },
    {
      "cell_type": "markdown",
      "metadata": {
        "id": "gD8lsTC8LCgO"
      },
      "source": [
        ""
      ]
    }
  ]
}