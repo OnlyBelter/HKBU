{
  "nbformat": 4,
  "nbformat_minor": 0,
  "metadata": {
    "colab": {
      "name": "GLV-multiple species.ipynb",
      "provenance": [],
      "collapsed_sections": [],
      "toc_visible": true,
      "authorship_tag": "ABX9TyOC10A9RvOIpkvJ1A0r06bY",
      "include_colab_link": true
    },
    "kernelspec": {
      "name": "python3",
      "display_name": "Python 3"
    },
    "language_info": {
      "name": "python"
    }
  },
  "cells": [
    {
      "cell_type": "markdown",
      "metadata": {
        "id": "view-in-github",
        "colab_type": "text"
      },
      "source": [
        "<a href=\"https://colab.research.google.com/github/OnlyBelter/HKBU/blob/main/GLV_model/GLV_multiple_species.ipynb\" target=\"_parent\"><img src=\"https://colab.research.google.com/assets/colab-badge.svg\" alt=\"Open In Colab\"/></a>"
      ]
    },
    {
      "cell_type": "markdown",
      "metadata": {
        "id": "CYkRzUg2J5RU"
      },
      "source": [
        "### 4. the Generalized Lotka-Volterra model (广义LV模型)\n",
        "- ref: https://stefanoallesina.github.io/Sao_Paulo_School/intro.html\n",
        "\n",
        "\n"
      ]
    },
    {
      "cell_type": "markdown",
      "metadata": {
        "id": "2BMwLT7pnUzd"
      },
      "source": [
        "\n",
        "#### 4.1 A single population\n",
        "\n",
        "$$\\frac{d_{N}}{d_t} = N (r + a N)$$\n",
        "\n",
        "Same as the Verhulst Equation."
      ]
    },
    {
      "cell_type": "markdown",
      "metadata": {
        "id": "FKj7qzxAnVFN"
      },
      "source": [
        "#### 4.2 Multi-species\n",
        "\n",
        "$$\\frac{d_{x(t)}}{d_t} = D(x(t))(r + Ax(t))$$\n",
        "\n",
        "where $x(t)$ is a (column) vector with length $n$ containing the densities of all populations $1,…,n$ at time $t$, \n",
        "\n",
        "$r$ is a vector of “intrinsic growth rates” (or death rates, when negative), measuring the growth (decline) of population $i$ when grown alone at low density,\n",
        "\n",
        "and $A$ is a $n\\times n$ matrix of interaction coefficients.\n",
        "\n",
        "We use $D(x)$ to denote the diagonal matrix with $x$ on the diagonal."
      ]
    },
    {
      "cell_type": "markdown",
      "metadata": {
        "id": "gD8lsTC8LCgO"
      },
      "source": [
        "#### 4.3 Multi-species dynamics\n"
      ]
    },
    {
      "cell_type": "markdown",
      "metadata": {
        "id": "2aGgRZrSnlFr"
      },
      "source": [
        "##### 4.3.1 Existence of an equilibrium\n",
        "In analogy with the single species, we can look for stationary points (equilibria). If the matrix $A$ is not singular, then we can look for a solution of $r+Ax$ that has positive components (called a feasible equilibrium). If such point exists, it is unique and is the solution of  \n",
        "$Ax^{*}=−r, x^{*}=−A^{−1}r$.\n",
        "\n",
        "> **Q**: How to deal with this problem if $A$ is a big matrix (may $500 \\times 500$) and is singular? \n",
        "\n",
        "Suppose that the GLV has no feasible equilibrium. Then all trajectories (if bounded; some could grow to infinity) reach the boundary of  \n",
        "$\\mathbb R^n_{0+}$. Practically, this means that **to ensure coexistence of all species, it is necessary to have an equilibrium in the interior $\\mathbb R^n_+$**."
      ]
    },
    {
      "cell_type": "markdown",
      "metadata": {
        "id": "pRoiDGfERhMp"
      },
      "source": [
        "##### 4.3.2 Stability of an equilibrium\n",
        "\n",
        "Suppose that a feasible equilibrium $x^{*}$ exists. Then we can ask whether it is attractive, i.e. if trajectories started at initial condition  \n",
        "$x(0)$ will eventually reach $x^{*}$. This problem is in general difficult to solve (but see below);\n",
        "\n",
        "> **Q**: Why is it difficult to solve? What's the general method to solve this kind of problem?\n",
        "\n",
        "as an alternative, we can test for local asymptotic stability, i.e., ask whether the system will return to the equilibrium if perturbed infinitesimally away from it. In general, whenever we describe an **ecological community** as a system of nonlinear, autonomous ODEs:\n",
        "\n",
        "$$\\frac{d x_i (t)}{d t} = f_i (x(t)) \\;,$$\n",
        "\n",
        "we define an equilibrium $x^{*}$ as a vector of densities such that:\n",
        "\n",
        "$$\\left. \\frac{d x_i}{d t} \\right|_{{x}^*} = f_i({x}^*) = 0 \\quad \\forall i$$\n",
        "\n",
        "> **Q**: How to understand the concept of \"Dynamic equilibrium\" and how to describe it by mathematical way?\n",
        "\n",
        "A given system might have a multitude of equilibria. When the system is resting at an equilibrium point, it will remain there unless it is perturbed away from it. **Local stability analysis** is a method to probe whether a system that is perturbed infinitesimally away from an equilibrium will eventually return to it, or rather move away from it.\n",
        "\n",
        "Suppose that the system is resting at an equilibrium $x^{*}$, and that it is slightly perturbed away from it. $\\Delta x(0)=x(0)−x^{*}$ is the state of the system immediately after the perturbation. We Taylor-expand around $x^{*}$:\n",
        "\n",
        "$$f(\\Delta x(0)) = f(x^{*})+ \\left. J \\right|_{x^{*}} \\Delta x(0) + \\ldots$$\n",
        "\n",
        "Where $J$ is the Jacobian matrix of the system, whose elements are defined as: $J_{ij} = \\frac{\\partial f_i(x)}{\\partial x_j}$ \n",
        "\n",
        "Each element of this matrix is therefore a function, whose value depends on  \n",
        "$x$. When we evaluate the Jacobian matrix at an equilibrium point $x^{*}$, we obtain the so-called “community matrix” $M$:\n",
        "\n",
        "$$M = \\left. {J} \\right|_{ {x}^{*}}$$\n",
        "\n",
        "Note that, although **each system has a unique Jacobian matrix**, there are as many community matrices as there are equilibria. The community matrix details the effect of increasing the density of one species on any other species around the equilibrium point.\n",
        "\n",
        "> Why does each system has a unique Jacobiam matrix? Does it should change along with time?\n",
        "\n",
        "We can therefore write the differential equation:\n",
        "\n",
        "$$\\frac{d \\Delta x(t)}{dt} \\approx M \\Delta x(t)$$\n",
        "with solution:\n",
        "$$\\Delta x(t) = \\Delta x(0) e^{Mt} = \\Delta x(0) Q e^{\\Lambda t} Q^{-1}$$\n",
        "\n",
        "Where $Q$ is the matrix containing the (unit) eigenvectors of $M$, and $\\Lambda$ is a diagonal matrix containing the eigenvalues of $M$. \n",
        "\n",
        "> What's the meaning of the eigenvectors and eigenvalues of $M$ here?\n",
        "\n",
        "As such, the eigenvalues of $M$ determine the stability of the equilibrium $x^{*}$: **if all the eigenvalues have negative real part, then the system will eventually return to the equilibrium after sufficiently small perturbations**; conversely, if any of the eigenvalues have positive real part, the system will move away from the equilibrium whenever perturbed. Therefore, depending on the sign of the “rightmost” eigenvalue of $M$, $\\lambda_1$, we can determine the stability of $x^{*}$:\n",
        "\n",
        "\n",
        "$$\\text{Re}(\\lambda_1) \\begin{cases}\n",
        "    < 0 \\to {x}^{*} \\quad \\text{is stable}\\\\\n",
        "    > 0 \\to {x}^{*} \\quad \\text{is unstable}\n",
        "  \\end{cases}\n",
        "$$\n",
        "\n",
        "\n",
        "Local asymptotic stability means that the equilibrium is stable with respect to infinitesimal perturbations (“local”), and that returning to the equilibrium could take a long time (“asymptotic”). Ecologists have also studied stronger forms of stability (e.g., “global stability”, in which all trajectories started at positive densities lead to the equilibrium).\n",
        "\n",
        "For the GLV model, the Jacobian is easy to compute:\n",
        "\n",
        "$$J_{ij} = \\frac{\\partial f_i}{\\partial x_j} = a_{ij} x_i$$\n",
        "\n",
        "and\n",
        "\n",
        "$$J_{ii} = \\frac{\\partial f_i}{\\partial x_i} = r_i + \\sum_j a_{ij} x_j + a_{ii} x_i$$\n",
        "\n",
        "> What's the meaning of $a$ and $r$?\n",
        "\n",
        "At equilibrium $r_i + \\sum_j a_{ij} x_j = 0$, \n",
        "\n",
        "$$M = \\left. {J} \\right|_{ {x}^{*}} = D(x^{*})A$$\n"
      ]
    },
    {
      "cell_type": "code",
      "metadata": {
        "id": "V99d_2-akEGo"
      },
      "source": [
        ""
      ],
      "execution_count": null,
      "outputs": []
    }
  ]
}