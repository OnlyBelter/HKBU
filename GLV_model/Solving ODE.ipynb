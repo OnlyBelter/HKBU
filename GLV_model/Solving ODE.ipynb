{
 "cells": [
  {
   "cell_type": "markdown",
   "id": "e4133eae-8814-4b16-b399-dc26bed09f82",
   "metadata": {},
   "source": [
    "### 1. Analytical methods vs numerical methods\n",
    "While simple ODEscan be solved with analytical methods, non-linear ODEs are generally not possible to solve in this way, and we need to apply numerical methods."
   ]
  },
  {
   "cell_type": "markdown",
   "id": "a570e03c-5c37-4528-8b92-346c988c5631",
   "metadata": {},
   "source": [
    "#### General abstract notation for an arbitrary ODE\n",
    "\n",
    "$$x^{'}(t) = \\dot{x}(t) = f(x(t), t)$$\n",
    "\n",
    "which means that the ODE is fully specified by the definition of the righthand side function $f(x,t)$. Examples of this function may be:\n",
    "- $f(x, t) = r x$, exponential growth\n",
    "- $f(x, t) = r x (1 - \\frac{x}{k})$, logist growrh\n",
    "\n",
    "Our aim is now to write functions and classes that take $f$ as input, and solve the corresponding ODE to produce $x$ as output."
   ]
  },
  {
   "cell_type": "code",
   "execution_count": 1,
   "id": "7509bd16-4cd9-4242-be54-173867a50118",
   "metadata": {},
   "outputs": [],
   "source": [
    "from scipy.integrate import ode\n",
    "import numpy as np\n",
    "import matplotlib.pyplot as plt"
   ]
  },
  {
   "cell_type": "code",
   "execution_count": 2,
   "id": "895651c7-eced-4cbc-a3a5-71dfde41898d",
   "metadata": {},
   "outputs": [],
   "source": [
    "def logistic_growth(t, x, arg1: dict):\n",
    "    r = arg1['r']\n",
    "    k = arg1['k']\n",
    "    dxdt = r * x * (k - x)/k\n",
    "    return dxdt"
   ]
  },
  {
   "cell_type": "code",
   "execution_count": 3,
   "id": "ae534a98-66c5-4835-a051-48bb1669a972",
   "metadata": {},
   "outputs": [],
   "source": [
    "t0 = 0\n",
    "x0 = 100\n",
    "arg1 = {'r': 0.04, 'k': 200}"
   ]
  },
  {
   "cell_type": "code",
   "execution_count": 4,
   "id": "ef4fcba6-7541-4b61-b8f4-1b8380e2912c",
   "metadata": {},
   "outputs": [],
   "source": [
    "r = ode(logistic_growth).set_integrator('zvode', method='bdf')\n",
    "r.set_initial_value(y=x0, t=t0).set_f_params(arg1)\n",
    "\n",
    "t1 = 100\n",
    "dt = 1\n",
    "x_collect = [] \n",
    "while r.successful() and r.t < t1:\n",
    "    t_inx = r.t + dt\n",
    "    x_t = np.real(r.integrate(t_inx))  # convert to real number\n",
    "    # print(t_inx, x_t)\n",
    "    x_collect.append(x_t[0])"
   ]
  },
  {
   "cell_type": "code",
   "execution_count": 9,
   "id": "e20cbb58-ff67-4df2-bb23-f88045b49c0e",
   "metadata": {},
   "outputs": [
    {
     "data": {
      "image/png": "[encoded data removed]",
      "text/plain": [
       "<Figure size 864x432 with 1 Axes>"
      ]
     },
     "metadata": {
      "needs_background": "light"
     },
     "output_type": "display_data"
    }
   ],
   "source": [
    "t = np.linspace(0, 99, 100)\n",
    "N0 = 100\n",
    "r = 0.04\n",
    "k = 200\n",
    "N = k / (1 + np.power(np.e, -0.04*t))\n",
    "# fig, ax = plt.subplots()\n",
    "plt.figure(figsize=(12, 6))\n",
    "plt.scatter(t, N, label='N')\n",
    "plt.scatter(t, x_collect, label='ode solver')\n",
    "plt.xlabel('t')\n",
    "plt.ylabel('function vs ode_solver')\n",
    "plt.legend()\n",
    "plt.tight_layout()"
   ]
  },
  {
   "cell_type": "code",
   "execution_count": null,
   "id": "ceadfe14-5ea2-4868-912b-75663fa228fd",
   "metadata": {},
   "outputs": [],
   "source": []
  }
 ],
 "metadata": {
  "kernelspec": {
   "display_name": "Python 3 (ipykernel)",
   "language": "python",
   "name": "python3"
  },
  "language_info": {
   "codemirror_mode": {
    "name": "ipython",
    "version": 3
   },
   "file_extension": ".py",
   "mimetype": "text/x-python",
   "name": "python",
   "nbconvert_exporter": "python",
   "pygments_lexer": "ipython3",
   "version": "3.8.12"
  }
 },
 "nbformat": 4,
 "nbformat_minor": 5
}
