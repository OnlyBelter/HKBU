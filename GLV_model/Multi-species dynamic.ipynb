{
 "cells": [
  {
   "cell_type": "markdown",
   "id": "9a7736c1-3f0a-4f14-b9c6-b03ab1989089",
   "metadata": {},
   "source": [
    "### 2. Multi-species dynamics\n",
    "- ref: https://stefanoallesina.github.io/Sao_Paulo_School/intro.html#multi-species-dynamics\n",
    "\n",
    "Suppose that the GLV has no feasible equilibrium. Then all trajectories (if bounded; some could grow to infinity) reach the boundary of $\\mathbb R^n_{0+}$. Practically, this means that **to ensure coexistence of all species, it is necessary to have an equilibrium in the interior $\\mathbb R^n_{0}$**."
   ]
  },
  {
   "cell_type": "code",
   "execution_count": null,
   "id": "b502077b-d0d8-497b-8b0c-e90b5ac5d460",
   "metadata": {},
   "outputs": [],
   "source": []
  }
 ],
 "metadata": {
  "kernelspec": {
   "display_name": "Python 3 (ipykernel)",
   "language": "python",
   "name": "python3"
  },
  "language_info": {
   "codemirror_mode": {
    "name": "ipython",
    "version": 3
   },
   "file_extension": ".py",
   "mimetype": "text/x-python",
   "name": "python",
   "nbconvert_exporter": "python",
   "pygments_lexer": "ipython3",
   "version": "3.8.12"
  }
 },
 "nbformat": 4,
 "nbformat_minor": 5
}
