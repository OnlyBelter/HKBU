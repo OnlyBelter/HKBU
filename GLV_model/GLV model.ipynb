{
 "cells": [
  {
   "cell_type": "markdown",
   "id": "aa13383a-bb0a-4e81-95eb-11cda9866948",
   "metadata": {
    "tags": []
   },
   "source": [
    "### 1. Bacteria grow with constant number of population"
   ]
  },
  {
   "cell_type": "markdown",
   "id": "84526b01-56d7-4a26-bb46-e3f71f5de1d4",
   "metadata": {},
   "source": [
    "$$N = N_0 + pt$$\n",
    "\n",
    "$N$ means the number of total population, \n",
    "\n",
    "$N_0$ means the number of initial population, \n",
    "\n",
    "$t$ means the number of time period (the unit can be hour, day or week), \n",
    "\n",
    "and $p$ means the increased number of population for each time period, a constant.\n",
    "\n",
    "Let $N_0 = 100$, $p = 20$, we can get a linear equation $N = 100 + 20t$."
   ]
  },
  {
   "cell_type": "code",
   "execution_count": 1,
   "id": "71db3c27-7992-427c-998a-67061dd84927",
   "metadata": {},
   "outputs": [],
   "source": [
    "import numpy as np\n",
    "import matplotlib.pyplot as plt"
   ]
  },
  {
   "cell_type": "code",
   "execution_count": 2,
   "id": "93f04249-673c-43b6-b3d6-c74791cc5c01",
   "metadata": {},
   "outputs": [
    {
     "data": {
      "text/plain": [
       "array([ 0.,  1.,  2.,  3.,  4.,  5.,  6.,  7.,  8.,  9., 10., 11., 12.,\n",
       "       13., 14., 15., 16., 17., 18., 19., 20., 21., 22., 23., 24., 25.,\n",
       "       26., 27., 28., 29., 30., 31., 32., 33., 34., 35., 36., 37., 38.,\n",
       "       39., 40., 41., 42., 43., 44., 45., 46., 47., 48., 49., 50., 51.,\n",
       "       52., 53., 54., 55., 56., 57., 58., 59., 60., 61., 62., 63., 64.,\n",
       "       65., 66., 67., 68., 69., 70., 71., 72., 73., 74., 75., 76., 77.,\n",
       "       78., 79., 80., 81., 82., 83., 84., 85., 86., 87., 88., 89., 90.,\n",
       "       91., 92., 93., 94., 95., 96., 97., 98., 99.])"
      ]
     },
     "execution_count": 2,
     "metadata": {},
     "output_type": "execute_result"
    }
   ],
   "source": [
    "np.linspace(0, 99, 100)"
   ]
  },
  {
   "cell_type": "code",
   "execution_count": 3,
   "id": "72750b3c-2354-48ed-bbe9-a4caf3b1360a",
   "metadata": {},
   "outputs": [
    {
     "data": {
      "text/plain": [
       "Text(0, 0.5, 'N')"
      ]
     },
     "execution_count": 3,
     "metadata": {},
     "output_type": "execute_result"
    },
    {
     "data": {
      "image/png": "[encoded data removed]",
      "text/plain": [
       "<Figure size 576x432 with 1 Axes>"
      ]
     },
     "metadata": {
      "needs_background": "light"
     },
     "output_type": "display_data"
    }
   ],
   "source": [
    "t = np.linspace(0, 29, 30)\n",
    "p = 20\n",
    "N = 100 + p * t\n",
    "plt.figure(figsize=(8, 6))\n",
    "plt.scatter(t, N)\n",
    "plt.xlabel('t')\n",
    "plt.ylabel('N')\n",
    "# plt.close()"
   ]
  },
  {
   "cell_type": "markdown",
   "id": "2b12dde1-c92d-4d53-be5c-5c51c9f4cb35",
   "metadata": {},
   "source": [
    "#### The derivate of N to t\n",
    "$$\\frac{d_N}{d_t}=p$$"
   ]
  },
  {
   "cell_type": "code",
   "execution_count": 4,
   "id": "66449ece-774d-4aad-86bd-f375566b771a",
   "metadata": {},
   "outputs": [
    {
     "data": {
      "text/plain": [
       "Text(0, 0.5, 'p')"
      ]
     },
     "execution_count": 4,
     "metadata": {},
     "output_type": "execute_result"
    },
    {
     "data": {
      "image/png": "[encoded data removed]",
      "text/plain": [
       "<Figure size 576x432 with 1 Axes>"
      ]
     },
     "metadata": {
      "needs_background": "light"
     },
     "output_type": "display_data"
    }
   ],
   "source": [
    "plt.figure(figsize=(8, 6))\n",
    "plt.scatter(t, [p] * len(t))\n",
    "plt.xlabel('t')\n",
    "plt.ylabel('p')\n",
    "# plt.close()"
   ]
  },
  {
   "cell_type": "markdown",
   "id": "76df16b2-7416-49c6-88c8-cfb5680a12f5",
   "metadata": {
    "tags": []
   },
   "source": [
    "### 2. Bacteria grow with a constant ratio of total population"
   ]
  },
  {
   "cell_type": "markdown",
   "id": "5f1a0294-0547-4077-b1ba-43b1c5eff2a5",
   "metadata": {},
   "source": [
    "$$\\frac{d_N}{d_t} = rN$$\n",
    "\n",
    "$N$ means the number of total population, a function of $t$, \n",
    "\n",
    "<!-- $N_0$ means the number of initial population,  -->\n",
    "\n",
    "$t$ means the number of time period (the unit can be hour, day or week), \n",
    "\n",
    "and $r$ means the growth rate of population for each time period, a constant.\n",
    "\n",
    "<!-- Let $N_0 = 100$, $p = 20$, we can get a linear equation $N = 100 + 20t$. -->\n",
    "\n",
    "Solve the **differential equation**, we can get \n",
    "$$N = C \\times e^{rt}$$\n",
    "Let $C = N_0 = 100, r = 0.04$, we can get $N = 100e^{0.04t}$."
   ]
  },
  {
   "cell_type": "code",
   "execution_count": 5,
   "id": "863d6f96-8304-4b23-9efb-d94fa54ef716",
   "metadata": {},
   "outputs": [
    {
     "data": {
      "text/plain": [
       "Text(0, 0.5, 'N')"
      ]
     },
     "execution_count": 5,
     "metadata": {},
     "output_type": "execute_result"
    },
    {
     "data": {
      "image/png": "[encoded data removed]",
      "text/plain": [
       "<Figure size 576x432 with 1 Axes>"
      ]
     },
     "metadata": {
      "needs_background": "light"
     },
     "output_type": "display_data"
    }
   ],
   "source": [
    "N0 = 100\n",
    "r = 0.04\n",
    "N = N0 * np.power(np.e, r * t)\n",
    "plt.figure(figsize=(8, 6))\n",
    "plt.scatter(t, N)\n",
    "plt.xlabel('t')\n",
    "plt.ylabel('N')"
   ]
  },
  {
   "cell_type": "code",
   "execution_count": 6,
   "id": "a8769d73-26fe-40d9-af1d-aade6d59cb9a",
   "metadata": {},
   "outputs": [
    {
     "data": {
      "text/plain": [
       "Text(0, 0.5, 'p2')"
      ]
     },
     "execution_count": 6,
     "metadata": {},
     "output_type": "execute_result"
    },
    {
     "data": {
      "image/png": "[encoded data removed]",
      "text/plain": [
       "<Figure size 576x432 with 1 Axes>"
      ]
     },
     "metadata": {
      "needs_background": "light"
     },
     "output_type": "display_data"
    }
   ],
   "source": [
    "p2 = [N[i+1] - N[i] for i in range(len(N)-1)]\n",
    "p2 = np.array([0] + p2)\n",
    "\n",
    "plt.figure(figsize=(8, 6))\n",
    "plt.scatter(t, p2)\n",
    "plt.xlabel('t')\n",
    "plt.ylabel('p2')"
   ]
  },
  {
   "cell_type": "markdown",
   "id": "1aa4af88-3bf7-4e8f-b9ff-84bf2025816a",
   "metadata": {
    "tags": []
   },
   "source": [
    "### 3. Growth with limited resource\n",
    "The growth can't go on forever as they will soon run out of available food/resource.\n",
    "- Let $k$ represent the maximum population that the food/resource can support\n",
    "\n",
    "The differential equation (**The Verhulst Equation**) can be:\n",
    "$$\\frac{d_{N}}{d_t} = rN(1 - \\frac{N}{k}) = \\frac{rN(k-N)}{k}$$\n",
    "> where $r$ is the Malthusian parameter (马尔萨斯常数, rate of maximum population growth) and $k$ is the so-called carrying capacity (i.e., the maximum sustainable population). \n",
    "\n",
    "Solve the differential equation, we can get:\n",
    "$$N = \\frac{k}{1 + (\\frac{k}{N_0} - 1) e^{-rt}}$$\n",
    "\n",
    "Let $N_0 = 100, k = 200, r = 0.04$, then $N = \\frac{200}{1 + e^{-0.04t}}$\n",
    "\n",
    "Ref:\n",
    "- https://www.mathsisfun.com/calculus/differential-equations.html\n",
    "- https://mathworld.wolfram.com/LogisticEquation.html"
   ]
  },
  {
   "cell_type": "code",
   "execution_count": 7,
   "id": "dfa97d41-2f55-4f17-8389-7f5cd6fb298d",
   "metadata": {},
   "outputs": [
    {
     "data": {
      "text/plain": [
       "Text(0, 0.5, 'N')"
      ]
     },
     "execution_count": 7,
     "metadata": {},
     "output_type": "execute_result"
    },
    {
     "data": {
      "image/png": "[encoded data removed]",
      "text/plain": [
       "<Figure size 864x432 with 1 Axes>"
      ]
     },
     "metadata": {
      "needs_background": "light"
     },
     "output_type": "display_data"
    }
   ],
   "source": [
    "t = np.linspace(0, 99, 100)\n",
    "N0 = 100\n",
    "r = 0.04\n",
    "k = 200\n",
    "N = k / (1 + np.power(np.e, -0.04*t))\n",
    "plt.figure(figsize=(12, 6))\n",
    "plt.scatter(t, N)\n",
    "plt.xlabel('t')\n",
    "plt.ylabel('N')"
   ]
  },
  {
   "cell_type": "code",
   "execution_count": 8,
   "id": "6ed944f8-83a3-4350-996d-125279392563",
   "metadata": {},
   "outputs": [
    {
     "data": {
      "text/plain": [
       "Text(0, 0.5, 'p3')"
      ]
     },
     "execution_count": 8,
     "metadata": {},
     "output_type": "execute_result"
    },
    {
     "data": {
      "image/png": "[encoded data removed]",
      "text/plain": [
       "<Figure size 864x432 with 1 Axes>"
      ]
     },
     "metadata": {
      "needs_background": "light"
     },
     "output_type": "display_data"
    }
   ],
   "source": [
    "p3 = [N[i+1] - N[i] for i in range(len(N)-1)]\n",
    "p3 = np.array([0] + p3)\n",
    "\n",
    "plt.figure(figsize=(12, 6))\n",
    "plt.scatter(t, p3)\n",
    "plt.xlabel('t')\n",
    "plt.ylabel('p3')"
   ]
  },
  {
   "cell_type": "markdown",
   "id": "8c92a6c4-63f6-46b4-ad3d-1051734e7172",
   "metadata": {
    "tags": []
   },
   "source": [
    "#### Sigmoid function\n",
    "\n",
    "Defining $x=N/k$, we can ger $$x = \\frac{e^{rt}}{e^{rt} + c}$$\n",
    "When $r = 1, x_0 = 1/2$, It equals to $$x(t) = \\frac{e^t}{e^t + 1}$$"
   ]
  },
  {
   "cell_type": "code",
   "execution_count": 9,
   "id": "bcd638ef-95a7-43e9-93f3-7737026cd9fd",
   "metadata": {},
   "outputs": [
    {
     "data": {
      "text/plain": [
       "Text(0, 0.5, 'N')"
      ]
     },
     "execution_count": 9,
     "metadata": {},
     "output_type": "execute_result"
    },
    {
     "data": {
      "image/png": "[encoded data removed]",
      "text/plain": [
       "<Figure size 576x432 with 1 Axes>"
      ]
     },
     "metadata": {
      "needs_background": "light"
     },
     "output_type": "display_data"
    }
   ],
   "source": [
    "t = np.linspace(-5, 5, 30)\n",
    "# print(t)\n",
    "N = np.power(np.e, t) / (1 + np.power(np.e, t))\n",
    "plt.figure(figsize=(8, 6))\n",
    "plt.scatter(t, N)\n",
    "plt.xlabel('t')\n",
    "plt.ylabel('N')"
   ]
  },
  {
   "cell_type": "markdown",
   "id": "f4fce1cc-f5ee-453a-ac10-f862b8dc7ada",
   "metadata": {},
   "source": [
    "#### Bacterial growth curve (from wiki)\n",
    "\n",
    "<img src=\"https://upload.wikimedia.org/wikipedia/commons/c/c0/Bacterial_growth_en.svg\">"
   ]
  },
  {
   "cell_type": "markdown",
   "id": "ca875285-d790-4fa6-97bd-767e27229bef",
   "metadata": {},
   "source": [
    "### 4. the Generalized Lotka-Volterra model\n",
    "\n",
    "- ref: https://stefanoallesina.github.io/Sao_Paulo_School/intro.html"
   ]
  },
  {
   "cell_type": "markdown",
   "id": "bb11d6a2-47fc-49b7-81e3-cf1c376c4a12",
   "metadata": {},
   "source": [
    "#### 4.1 A single population\n",
    "\n",
    "$$\\frac{d_{N}}{d_t} = N (r + a N)$$\n",
    "\n",
    "Same as the Verhulst Equation."
   ]
  },
  {
   "cell_type": "markdown",
   "id": "c7dd3ad6-ed1a-487f-8679-d6cc2cd601d6",
   "metadata": {},
   "source": [
    "#### 4.2 Multi-species\n",
    "\n",
    "$$\\frac{d_{x(t)}}{d_t} = D(x(t))(r + Ax(t))$$\n",
    "\n",
    "where $x(t)$ is a (column) vector of length $n$ containing the densities of all populations $1,…,n$ at time $t$, \n",
    "\n",
    "$r$ is a vector of “intrinsic growth rates” (or death rates, when negative), measuring the growth (decline) of population $i$ when grown alone at low density, \n",
    "\n",
    "and $A$ is a $n\\times n$ matrix of interaction coefficients. \n",
    "\n",
    "We use $D(x)$ to denote the diagonal matrix with $x$ on the diagonal."
   ]
  },
  {
   "cell_type": "code",
   "execution_count": null,
   "id": "1c4b1017-e213-4b13-9149-c84e7a3cfadd",
   "metadata": {},
   "outputs": [],
   "source": []
  }
 ],
 "metadata": {
  "kernelspec": {
   "display_name": "Python 3 (ipykernel)",
   "language": "python",
   "name": "python3"
  },
  "language_info": {
   "codemirror_mode": {
    "name": "ipython",
    "version": 3
   },
   "file_extension": ".py",
   "mimetype": "text/x-python",
   "name": "python",
   "nbconvert_exporter": "python",
   "pygments_lexer": "ipython3",
   "version": "3.8.12"
  }
 },
 "nbformat": 4,
 "nbformat_minor": 5
}
