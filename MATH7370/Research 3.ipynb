{
 "cells": [
  {
   "cell_type": "markdown",
   "metadata": {},
   "source": [
    "Explore how SVD (i.e., PCA) can help figure out the \"intrinsic dimension\"  for discrete data on the following Klein Bottle ( Ans = 2 ): \n",
    "\n",
    "```\n",
    ">> [u,v]=meshgrid(linspace(0,2*pi));\n",
    ">> x = (2*cos(v)+1).*cos(u); y = (2*cos(v)+1).*sin(u); z = 2*sin(v).*cos(u/2); w = 2*sin(v).*sin(u/2);\n",
    ">> mesh(x,y,z)\n",
    "```\n",
    "\n",
    "Propose possible ways (i.e., pseudocode) to deal with d-dimensional data embedded in R^D with d<<D. Also discuss computational cost."
   ]
  },
  {
   "cell_type": "markdown",
   "metadata": {},
   "source": [
    "### Raw data"
   ]
  },
  {
   "cell_type": "code",
   "execution_count": 1,
   "metadata": {},
   "outputs": [
    {
     "name": "stdout",
     "output_type": "stream",
     "text": [
      "\n"
     ]
    }
   ],
   "source": [
    "[u, v] = meshgrid(linspace(0, 2*pi));"
   ]
  },
  {
   "cell_type": "code",
   "execution_count": 2,
   "metadata": {},
   "outputs": [
    {
     "name": "stdout",
     "output_type": "stream",
     "text": [
      "\n",
      "ans =\n",
      "\n",
      "   100   100\n",
      "\n",
      "\n"
     ]
    }
   ],
   "source": [
    "size(u)"
   ]
  },
  {
   "cell_type": "code",
   "execution_count": 3,
   "metadata": {},
   "outputs": [
    {
     "name": "stdout",
     "output_type": "stream",
     "text": [
      "\n"
     ]
    }
   ],
   "source": [
    "x = (2*cos(v)+1).*cos(u);\n",
    "y = (2*cos(v)+1).*sin(u); \n",
    "z = 2*sin(v).*cos(u/2);"
   ]
  },
  {
   "cell_type": "markdown",
   "metadata": {},
   "source": [
    "### Convert x, y, z to $10000 \\times 3$ matrix "
   ]
  },
  {
   "cell_type": "code",
   "execution_count": 6,
   "metadata": {},
   "outputs": [
    {
     "name": "stdout",
     "output_type": "stream",
     "text": [
      "\n",
      "ans =\n",
      "\n",
      "       10000           3\n",
      "\n",
      "\n"
     ]
    }
   ],
   "source": [
    "XYZ = [x(:), y(:), z(:)];\n",
    "size(XYZ)"
   ]
  },
  {
   "cell_type": "markdown",
   "metadata": {},
   "source": [
    "### Output XYZ to xyz.csv"
   ]
  },
  {
   "cell_type": "code",
   "execution_count": 7,
   "metadata": {},
   "outputs": [
    {
     "name": "stdout",
     "output_type": "stream",
     "text": [
      "\n"
     ]
    }
   ],
   "source": [
    "csvwrite('xyz.csv', XYZ)"
   ]
  },
  {
   "cell_type": "code",
   "execution_count": null,
   "metadata": {},
   "outputs": [],
   "source": []
  }
 ],
 "metadata": {
  "kernelspec": {
   "display_name": "Matlab",
   "language": "matlab",
   "name": "matlab"
  },
  "language_info": {
   "codemirror_mode": "octave",
   "file_extension": ".m",
   "help_links": [
    {
     "text": "MetaKernel Magics",
     "url": "https://metakernel.readthedocs.io/en/latest/source/README.html"
    }
   ],
   "mimetype": "text/x-octave",
   "name": "matlab",
   "version": "0.16.11"
  }
 },
 "nbformat": 4,
 "nbformat_minor": 4
}
