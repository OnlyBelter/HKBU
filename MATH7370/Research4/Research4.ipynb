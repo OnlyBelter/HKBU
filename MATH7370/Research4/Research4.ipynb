{
 "cells": [
  {
   "cell_type": "code",
   "execution_count": 1,
   "metadata": {},
   "outputs": [],
   "source": [
    "import os\n",
    "import numpy as np\n",
    "import random\n",
    "import pandas as pd\n",
    "from scipy import stats\n",
    "import matplotlib.pyplot as plt\n",
    "from sklearn.cluster import KMeans\n",
    "from sklearn.linear_model import SGDRegressor\n",
    "from sklearn.pipeline import make_pipeline\n",
    "from sklearn.preprocessing import StandardScaler\n",
    "from sklearn.metrics import mean_squared_error"
   ]
  },
  {
   "cell_type": "markdown",
   "metadata": {
    "tags": []
   },
   "source": [
    "### Part1: fixed Gaussian"
   ]
  },
  {
   "cell_type": "markdown",
   "metadata": {},
   "source": [
    "#### Generating data points\n",
    "- $y = \\frac{1}{3} x^2 + 2$\n",
    "- training set: n = 10, add noise $\\tau$ ($\\tau \\sim N(0, 1)$) for each point\n",
    "- test set: another 10 paired points"
   ]
  },
  {
   "cell_type": "code",
   "execution_count": 2,
   "metadata": {},
   "outputs": [],
   "source": [
    "np.random.seed = 42"
   ]
  },
  {
   "cell_type": "code",
   "execution_count": 3,
   "metadata": {},
   "outputs": [],
   "source": [
    "def generate_data(size=10, add_noise=False):\n",
    "    # np.random.seed = 42\n",
    "    x = np.random.random(size=size) * 10  # [0, 10]\n",
    "    y = 1/3 * x**2 + 2\n",
    "    if add_noise:\n",
    "        y = y + stats.norm(0, 1).rvs(size=size)\n",
    "    return x,y"
   ]
  },
  {
   "cell_type": "code",
   "execution_count": 4,
   "metadata": {
    "tags": []
   },
   "outputs": [],
   "source": [
    "if not os.path.exists('data_set.csv'):\n",
    "    x_train, y_train = generate_data(100, add_noise=True)\n",
    "    x_test, y_test = generate_data(10)\n",
    "else:\n",
    "    all_data = pd.read_csv('data_set.csv', index_col=0)\n",
    "    x_train = all_data.loc[all_data['dataset']=='training_set', 'x'].values\n",
    "    y_train = all_data.loc[all_data['dataset']=='training_set', 'y'].values\n",
    "    x_test = all_data.loc[all_data['dataset']=='test_set', 'x'].values\n",
    "    y_test = all_data.loc[all_data['dataset']=='test_set', 'y'].values"
   ]
  },
  {
   "cell_type": "code",
   "execution_count": 5,
   "metadata": {},
   "outputs": [],
   "source": [
    "# all_data = pd.DataFrame(index=range(110), columns=['x', 'y', 'dataset'])\n",
    "# all_data.iloc[range(100), 0] = x_train\n",
    "# all_data.iloc[range(100), 1] = y_train\n",
    "# all_data.iloc[range(100), 2] = 'training_set'\n",
    "# all_data.iloc[range(100, 110), 0] = x_test\n",
    "# all_data.iloc[range(100, 110), 1] = y_test\n",
    "# all_data.iloc[range(100, 110), 2] = 'test_set'\n",
    "# all_data.head(2)"
   ]
  },
  {
   "cell_type": "code",
   "execution_count": 6,
   "metadata": {},
   "outputs": [],
   "source": [
    "# all_data.to_csv('data_set.csv')"
   ]
  },
  {
   "cell_type": "code",
   "execution_count": 7,
   "metadata": {},
   "outputs": [
    {
     "data": {
      "image/png": "[encoded data removed]",
      "text/plain": [
       "<Figure size 432x288 with 1 Axes>"
      ]
     },
     "metadata": {
      "needs_background": "light"
     },
     "output_type": "display_data"
    }
   ],
   "source": [
    "_x = np.linspace(0, 10, 100)\n",
    "_y = np.array([1/3 * i**2 + 2 for i in _x])\n",
    "# print(_x, _y)\n",
    "plt.scatter(x_train, y_train, label='Y=1/3X^2+2+noise')\n",
    "plt.plot(_x, _y, label='Y=1/3X^2+2')\n",
    "plt.legend()\n",
    "plt.show()\n",
    "# plt.close()"
   ]
  },
  {
   "cell_type": "code",
   "execution_count": 8,
   "metadata": {},
   "outputs": [],
   "source": [
    "def x2kxx(X1, X2, rbf):\n",
    "    \"\"\"convert X1 to the distance matrix with X2, \n",
    "    and get K(X1,X2) (n by m), the length of X1 is n, the length of X2 is m\"\"\"\n",
    "    n = len(X1)\n",
    "    m = len(X2)\n",
    "    kxx = np.zeros((n, m))\n",
    "    for i in range(n):\n",
    "        for j in range(m):\n",
    "            kxx[i, j] = rbf(X1[i], X2[j])\n",
    "    return kxx"
   ]
  },
  {
   "cell_type": "code",
   "execution_count": 9,
   "metadata": {},
   "outputs": [],
   "source": [
    "def rbf_fixed(x, y, epsilon=1):\n",
    "    return np.exp(- np.power(epsilon, 2) * np.power(x-y, 2))"
   ]
  },
  {
   "cell_type": "code",
   "execution_count": 10,
   "metadata": {
    "tags": []
   },
   "outputs": [
    {
     "data": {
      "text/plain": [
       "(100, 100)"
      ]
     },
     "execution_count": 10,
     "metadata": {},
     "output_type": "execute_result"
    }
   ],
   "source": [
    "kxx = x2kxx(X1=x_train, X2=x_train, rbf=rbf_fixed)\n",
    "kxx.shape"
   ]
  },
  {
   "cell_type": "code",
   "execution_count": 11,
   "metadata": {},
   "outputs": [
    {
     "data": {
      "text/plain": [
       "Pipeline(steps=[('standardscaler', StandardScaler()),\n",
       "                ('sgdregressor', SGDRegressor())])"
      ]
     },
     "execution_count": 11,
     "metadata": {},
     "output_type": "execute_result"
    }
   ],
   "source": [
    "reg = make_pipeline(StandardScaler(),\n",
    "                    SGDRegressor(max_iter=1000, tol=1e-3, loss='squared_loss'))\n",
    "reg.fit(kxx, y_train)"
   ]
  },
  {
   "cell_type": "code",
   "execution_count": 12,
   "metadata": {},
   "outputs": [],
   "source": [
    "y_pred = reg.predict(kxx)"
   ]
  },
  {
   "cell_type": "code",
   "execution_count": 13,
   "metadata": {},
   "outputs": [
    {
     "data": {
      "text/plain": [
       "(100,)"
      ]
     },
     "execution_count": 13,
     "metadata": {},
     "output_type": "execute_result"
    }
   ],
   "source": [
    "y_pred.shape"
   ]
  },
  {
   "cell_type": "code",
   "execution_count": 14,
   "metadata": {},
   "outputs": [
    {
     "data": {
      "text/plain": [
       "<matplotlib.legend.Legend at 0x247829d5700>"
      ]
     },
     "execution_count": 14,
     "metadata": {},
     "output_type": "execute_result"
    },
    {
     "data": {
      "image/png": "[encoded data removed]",
      "text/plain": [
       "<Figure size 432x288 with 1 Axes>"
      ]
     },
     "metadata": {
      "needs_background": "light"
     },
     "output_type": "display_data"
    }
   ],
   "source": [
    "plt.scatter(x_train, y_train, label='Training set')\n",
    "plt.plot(_x, _y, label='Y=1/3X^2+2')\n",
    "plt.scatter(x_train, y_pred, label='Predicted Y of Training set', marker='x')\n",
    "plt.legend()"
   ]
  },
  {
   "cell_type": "markdown",
   "metadata": {
    "tags": []
   },
   "source": [
    "#### Test Set"
   ]
  },
  {
   "cell_type": "code",
   "execution_count": 15,
   "metadata": {},
   "outputs": [
    {
     "data": {
      "text/plain": [
       "(10, 100)"
      ]
     },
     "execution_count": 15,
     "metadata": {},
     "output_type": "execute_result"
    }
   ],
   "source": [
    "kxx_test = x2kxx(X1=x_test, X2=x_train, rbf=rbf_fixed)\n",
    "kxx_test.shape"
   ]
  },
  {
   "cell_type": "code",
   "execution_count": 16,
   "metadata": {},
   "outputs": [],
   "source": [
    "kxx_scaled = reg.named_steps['standardscaler'].transform(kxx_test)"
   ]
  },
  {
   "cell_type": "code",
   "execution_count": 17,
   "metadata": {},
   "outputs": [],
   "source": [
    "y_pred_test = reg.named_steps['sgdregressor'].intercept_ + kxx_scaled @ reg.named_steps['sgdregressor'].coef_.reshape(-1, 1)"
   ]
  },
  {
   "cell_type": "code",
   "execution_count": 18,
   "metadata": {},
   "outputs": [
    {
     "data": {
      "image/png": "[encoded data removed]",
      "text/plain": [
       "<Figure size 576x432 with 1 Axes>"
      ]
     },
     "metadata": {
      "needs_background": "light"
     },
     "output_type": "display_data"
    }
   ],
   "source": [
    "plt.figure(figsize=(8, 6))\n",
    "plt.scatter(x_train, y_train, label='Training set')\n",
    "plt.plot(_x, _y, label='$Y=1/3X^2+2$')\n",
    "plt.scatter(x_train, y_pred, label='Predicted Y of Training set', marker='x')\n",
    "plt.scatter(x_test, y_pred_test, label='Test set', marker='+')\n",
    "plt.xlabel('x')\n",
    "plt.ylabel('y')\n",
    "plt.legend()\n",
    "plt.tight_layout()\n",
    "plt.savefig('fixed_RBF.png', dpi=200)"
   ]
  },
  {
   "cell_type": "markdown",
   "metadata": {},
   "source": [
    "#### Error in test set"
   ]
  },
  {
   "cell_type": "code",
   "execution_count": 19,
   "metadata": {},
   "outputs": [
    {
     "data": {
      "text/plain": [
       "0.6855403218290002"
      ]
     },
     "execution_count": 19,
     "metadata": {},
     "output_type": "execute_result"
    }
   ],
   "source": [
    "mse = mean_squared_error(y_true=y_test, y_pred=y_pred_test)\n",
    "mse"
   ]
  },
  {
   "cell_type": "markdown",
   "metadata": {},
   "source": [
    "### Part2: More flexible Gaussian function"
   ]
  },
  {
   "cell_type": "markdown",
   "metadata": {},
   "source": [
    "- The code modified from: https://pythonmachinelearning.pro/using-neural-networks-for-regression-radial-basis-function-networks/"
   ]
  },
  {
   "cell_type": "code",
   "execution_count": 38,
   "metadata": {},
   "outputs": [],
   "source": [
    "def rbf(x, c, eps):\n",
    "    \"\"\"eps means \\epsilon\"\"\"\n",
    "    return np.exp(- eps**2 * (x-c)**2)\n",
    "\n",
    "class RBFNet(object):\n",
    "    \"\"\"Implementation of a Radial Basis Function Network\"\"\"\n",
    "    def __init__(self, m=3, lr=0.01, epochs=100, rbf=rbf):\n",
    "        np.random.seed = 42\n",
    "        self.m = m\n",
    "        self.lr = lr\n",
    "        self.epochs = epochs\n",
    "        self.rbf = rbf\n",
    "        self.w = np.random.randn(m)  # lambda\n",
    "        self.b = np.random.randn(1)\n",
    "        self.c = np.random.random(m) * 10  # centers\n",
    "        self.eps = np.random.random(m)  # epsilon\n",
    "        \n",
    "    def fit(self, X, y, fixed_eps=None):\n",
    "        # training\n",
    "        epo2mse = {}\n",
    "        if fixed_eps is not None:\n",
    "            self.eps = fixed_eps * np.ones(self.m)\n",
    "        for epoch in range(self.epochs):\n",
    "            for i in range(X.shape[0]):\n",
    "                # forward pass\n",
    "                a = np.array([self.rbf(X[i], c, eps) for c, eps, in zip(self.c, self.eps)])\n",
    "                F = a.T.dot(self.w) + self.b\n",
    "                loss = (y[i] - F).flatten() ** 2\n",
    "                # print('Loss: {0:.2f}'.format(loss[0]))\n",
    "                # backward pass\n",
    "                error = -(y[i] - F).flatten()\n",
    "                # online update\n",
    "                part_d_eps = np.array([self.w[j] * a[j] * (-2*self.eps[j]*(X[i]-self.c[j])**2) for j in range(self.m)])\n",
    "                if fixed_eps is None:  # only update self.eps when we didn't fix epsilon\n",
    "                    self.eps = self.eps - self.lr * part_d_eps * error\n",
    "                part_d_c = np.array([self.w[j] * a[j] * (2*self.eps[j]**2) for j in range(self.m)])\n",
    "                self.c = self.c - self.lr * part_d_c * error\n",
    "                self.w = self.w - self.lr * a * error\n",
    "                self.b = self.b - self.lr * error\n",
    "            y_pred = self.predict(X)\n",
    "            mse = mean_squared_error(y_true=y, y_pred=y_pred)\n",
    "            epo2mse[epoch] = mse\n",
    "            # print('MSE: {0:.3f}'.format(mse))\n",
    "        return {'epo2mse': epo2mse, 'm': self.m, 'w': self.w, 'b': self.b, 'c': self.c, 'eps': self.eps}\n",
    "    def predict(self, X):\n",
    "        y_pred = []\n",
    "        for i in range(X.shape[0]):\n",
    "            a = np.array([self.rbf(X[i], c, eps) for c, eps, in zip(self.c, self.eps)])\n",
    "            F = a.T.dot(self.w) + self.b\n",
    "            y_pred.append(F)\n",
    "        return np.array(y_pred)"
   ]
  },
  {
   "cell_type": "markdown",
   "metadata": {},
   "source": [
    "#### m=5"
   ]
  },
  {
   "cell_type": "code",
   "execution_count": 21,
   "metadata": {
    "tags": []
   },
   "outputs": [
    {
     "name": "stdout",
     "output_type": "stream",
     "text": [
      "m: 5\n",
      "w: [ 8.68527833 -5.75617767 12.30129037  5.59037495 -6.09804317]\n",
      "b: [6.85379709]\n",
      "c: [10.86136663  3.4038795  12.57069427  4.80299029  3.4925974 ]\n",
      "eps: [1.63517440e-001 2.14118056e-001 1.16306821e-001 5.92878775e-323\n",
      " 2.11153382e-001]\n"
     ]
    }
   ],
   "source": [
    "rbfnet = RBFNet(lr=1e-4, m=5, epochs=1000)\n",
    "fit_result = rbfnet.fit(x_train, y_train)\n",
    "for k, v in fit_result.items():\n",
    "    if k != 'epo2mse':\n",
    "        print('{}: {}'.format(k, v))"
   ]
  },
  {
   "cell_type": "code",
   "execution_count": 22,
   "metadata": {},
   "outputs": [
    {
     "data": {
      "text/plain": [
       "[<matplotlib.lines.Line2D at 0x247836d3370>]"
      ]
     },
     "execution_count": 22,
     "metadata": {},
     "output_type": "execute_result"
    },
    {
     "data": {
      "image/png": "[encoded data removed]",
      "text/plain": [
       "<Figure size 432x288 with 1 Axes>"
      ]
     },
     "metadata": {
      "needs_background": "light"
     },
     "output_type": "display_data"
    }
   ],
   "source": [
    "plt.plot(fit_result['epo2mse'].keys(), fit_result['epo2mse'].values())"
   ]
  },
  {
   "cell_type": "code",
   "execution_count": 23,
   "metadata": {},
   "outputs": [],
   "source": [
    "y_pred_test_rbfn = rbfnet.predict(x_test)\n",
    "mse_rbfn = mean_squared_error(y_true=y_test, y_pred=y_pred_test_rbfn)"
   ]
  },
  {
   "cell_type": "code",
   "execution_count": 24,
   "metadata": {},
   "outputs": [
    {
     "data": {
      "text/plain": [
       "5.189027567702288"
      ]
     },
     "execution_count": 24,
     "metadata": {},
     "output_type": "execute_result"
    }
   ],
   "source": [
    "mse_rbfn"
   ]
  },
  {
   "cell_type": "markdown",
   "metadata": {},
   "source": [
    "#### m=20"
   ]
  },
  {
   "cell_type": "code",
   "execution_count": 25,
   "metadata": {
    "tags": []
   },
   "outputs": [
    {
     "name": "stdout",
     "output_type": "stream",
     "text": [
      "m: 20\n",
      "w: [-2.95843735 -2.43670894 -3.04723246  3.65328638 -1.85517913  3.04179667\n",
      "  0.20638405 -0.98603836  2.70201563  3.51413552  5.98670317  5.0859891\n",
      " -3.26191692  3.11789556  1.76679383  0.02677361  3.32115088 -2.49865715\n",
      " -2.15976367  3.79453282]\n",
      "b: [3.83577834]\n",
      "c: [3.50650204e+00 1.72964627e+00 2.72375083e+00 7.22080179e+00\n",
      " 3.56408909e+00 1.12493480e+01 2.97875233e+00 2.16641564e+00\n",
      " 3.87465967e+00 8.32218212e+00 1.16776329e+01 1.15350397e+01\n",
      " 1.85765386e+00 5.16690714e-03 6.12278179e+00 5.77726379e+00\n",
      " 4.54923302e+00 1.92230588e+00 1.69014812e+00 3.97097787e+00]\n",
      "eps: [1.70612114e-001 1.93179124e-001 1.77659730e-001 1.63056302e-001\n",
      " 1.68194940e-001 3.39168157e-001 6.67529904e-001 1.74043037e+000\n",
      " 3.65231296e-190 1.67910309e-001 2.74064465e-001 2.94687618e-001\n",
      " 1.91310920e-001 1.48219694e-323 1.64591052e-001 5.71075474e-001\n",
      " 5.45896157e-141 1.88421011e-001 1.93887373e-001 1.85959719e-296]\n"
     ]
    }
   ],
   "source": [
    "rbfnet = RBFNet(lr=1e-4, m=20, epochs=1000)\n",
    "fit_result = rbfnet.fit(x_train, y_train)\n",
    "for k, v in fit_result.items():\n",
    "    if k != 'epo2mse':\n",
    "        print('{}: {}'.format(k, v))"
   ]
  },
  {
   "cell_type": "code",
   "execution_count": 26,
   "metadata": {},
   "outputs": [
    {
     "data": {
      "text/plain": [
       "[<matplotlib.lines.Line2D at 0x24783733100>]"
      ]
     },
     "execution_count": 26,
     "metadata": {},
     "output_type": "execute_result"
    },
    {
     "data": {
      "image/png": "[encoded data removed]",
      "text/plain": [
       "<Figure size 432x288 with 1 Axes>"
      ]
     },
     "metadata": {
      "needs_background": "light"
     },
     "output_type": "display_data"
    }
   ],
   "source": [
    "plt.plot(fit_result['epo2mse'].keys(), fit_result['epo2mse'].values())"
   ]
  },
  {
   "cell_type": "code",
   "execution_count": 27,
   "metadata": {},
   "outputs": [],
   "source": [
    "y_pred_test_rbfn = rbfnet.predict(x_test)\n",
    "mse_rbfn = mean_squared_error(y_true=y_test, y_pred=y_pred_test_rbfn)"
   ]
  },
  {
   "cell_type": "code",
   "execution_count": 28,
   "metadata": {},
   "outputs": [
    {
     "data": {
      "text/plain": [
       "0.8445195092789627"
      ]
     },
     "execution_count": 28,
     "metadata": {},
     "output_type": "execute_result"
    }
   ],
   "source": [
    "mse_rbfn"
   ]
  },
  {
   "cell_type": "markdown",
   "metadata": {},
   "source": [
    "#### m=100"
   ]
  },
  {
   "cell_type": "code",
   "execution_count": 29,
   "metadata": {
    "tags": []
   },
   "outputs": [
    {
     "name": "stdout",
     "output_type": "stream",
     "text": [
      "m: 100\n",
      "w: [-0.21166596 -1.40946403 -0.82731942 -1.56167215  0.56995721 -0.09891053\n",
      " -0.69873506  0.33891131  0.27543115 -0.59061719 -0.08673292  1.26010843\n",
      "  0.17264406  0.56126477  1.17675775  0.51137123  0.3687061  -0.17941161\n",
      "  1.31161836 -0.07782947 -0.79690918 -0.96642757 -3.01224657  0.90773273\n",
      " -0.77825629 -1.41589592  1.28682066  0.2945334   1.14860657 -0.79971286\n",
      "  1.59040502  0.00981164  0.41690404  1.4891128  -0.0354462   0.82116855\n",
      "  1.04550506 -0.65430114  1.46216481  1.26897234 -1.54795146  1.00402052\n",
      "  0.64498552 -2.36342453  0.53544614  0.96171087  0.21904705  2.01045967\n",
      " -1.94993199  1.83137481 -0.48883205  2.62157256  0.06217929 -0.88159976\n",
      "  0.55020709 -0.38209507  2.31685892 -1.16216403 -1.51056445  0.03799742\n",
      " -1.25961354  0.50970786  1.29607397 -0.32488559  1.59126193 -0.9359733\n",
      "  0.78580418 -0.03754721  0.27472208 -0.26976442 -1.00180552  0.39616362\n",
      "  0.39633656  0.21931033  0.64859776 -2.26263475  1.94326728 -0.26888963\n",
      " -0.97642915  0.27192557  0.55996425  2.78374594  0.48248678  0.14904264\n",
      " -1.26605566  0.63102886 -0.88761888  2.85529154  1.25059357  1.26778647\n",
      " -0.08277103  1.68253478  1.89650116 -0.52385224 -0.01485486  0.23088232\n",
      " -0.99877911  0.40634914  0.02928913  2.05004759]\n",
      "b: [-0.93993881]\n",
      "c: [ 8.4514125   5.88768887  4.01495816  5.77673201  5.26704818  5.66036967\n",
      "  5.62543987  3.42774455  5.51673237  5.99399573  8.46327116  5.65070035\n",
      "  8.91323248  4.67386179  2.78354474  6.28650123  3.12049817  7.10252931\n",
      "  6.90325657  3.59949943  2.02114108  2.52198268  3.28477712  6.18283077\n",
      "  1.40459227  2.66472304  1.02935104  4.8603267   4.49230572  6.00863384\n",
      "  3.16215892  3.82076614  6.61796517  5.0529003   4.57269342  2.00258639\n",
      "  4.62141974  3.81823172  9.01619245 -0.12543271  8.95892936  5.98626377\n",
      "  0.67207562  1.6637904   0.48068078  7.64767993  8.13447732 10.6348785\n",
      "  4.07854369  6.69486004  3.70097396 10.83333342  2.78393463  5.45469433\n",
      "  6.76315116  1.31732489  1.2575995   3.15231304  4.69058534  2.91879292\n",
      "  1.44500487  8.69503852  4.01448927  3.26485932  3.73358204  1.53645445\n",
      "  4.55853586  1.06784287  9.20918714  9.66544049  0.08102125  3.22202267\n",
      "  6.55678143  1.06439037  3.09603501  0.7621994  10.63464058  9.60413769\n",
      "  7.16610398  5.62255213  1.32162759  8.10867964  7.79143675  5.23742391\n",
      "  0.71157875  7.82961952  1.01141775  8.92688093  7.00404918  4.75072999\n",
      "  0.18600709  7.33975905 10.86829392  3.71088402  3.31230823  4.5177276\n",
      "  4.90319853  2.92689786  2.63511115  3.33876289]\n",
      "eps: [9.04924240e-001 3.95370753e-001 9.24816146e-001 3.80499382e-001\n",
      " 5.51514593e-001 7.30953804e-001 3.74179954e-001 2.33056011e-009\n",
      " 7.90483883e-001 4.30849698e-001 6.39880121e-001 7.15049561e-001\n",
      " 9.35002723e-001 5.70828092e-007 7.30846302e-001 1.28692176e-001\n",
      " 7.85463687e-001 5.12002389e-001 1.46008546e-001 5.00371716e-001\n",
      " 1.87240223e-001 1.87102248e-001 1.92888987e-001 1.18465900e-001\n",
      " 5.25304261e-001 1.88059611e-001 2.30327114e-082 5.48063352e-001\n",
      " 8.93529944e-001 4.18631374e-001 4.27855362e-052 4.18886871e-001\n",
      " 1.41775252e-001 2.10463604e-011 3.22638731e-001 6.84987312e-001\n",
      " 1.61309205e-013 1.97518177e-001 2.00376426e-001 5.81314399e-001\n",
      " 1.71494449e-075 1.01790827e-001 8.92834011e-042 1.95686307e-001\n",
      " 1.52337777e-034 1.61760528e-001 4.71103195e-001 6.71495105e-001\n",
      " 2.03904418e-001 1.39799932e-001 1.96069577e-001 5.66549927e-001\n",
      " 5.39979913e-001 3.44787688e-001 1.10823151e+000 6.75973433e-001\n",
      " 4.96362287e-145 1.89551803e-001 2.33706377e-001 6.42016120e-001\n",
      " 2.13465418e-001 2.19603903e-001 8.02522434e-027 8.05552123e-001\n",
      " 3.29919062e-037 2.06244332e-001 9.83410095e-001 5.55257840e-001\n",
      " 3.73779490e-001 1.70557023e-001 2.28099229e-001 6.48367914e-001\n",
      " 1.40482202e-001 1.01178560e+000 8.16359228e-001 2.15264782e-001\n",
      " 6.65279513e-001 2.76130687e-001 6.22334042e-001 9.01174819e-002\n",
      " 1.67037424e-028 1.75730980e-001 2.74183809e-001 7.06191375e-001\n",
      " 2.20372556e-001 1.65341661e-001 3.61963915e-001 1.99550673e-001\n",
      " 1.48554725e-001 1.54850406e-016 9.95143834e-001 1.56745649e-001\n",
      " 5.26521862e-001 7.73810340e-001 6.69080557e-001 6.02986895e-001\n",
      " 2.56899774e-001 1.61950357e-013 6.46246308e-001 6.29126422e-063]\n"
     ]
    }
   ],
   "source": [
    "rbfnet = RBFNet(lr=1e-4, m=100, epochs=1000)\n",
    "fit_result = rbfnet.fit(x_train, y_train)\n",
    "for k, v in fit_result.items():\n",
    "    if k != 'epo2mse':\n",
    "        print('{}: {}'.format(k, v))"
   ]
  },
  {
   "cell_type": "code",
   "execution_count": 30,
   "metadata": {},
   "outputs": [
    {
     "data": {
      "text/plain": [
       "[<matplotlib.lines.Line2D at 0x247836fb130>]"
      ]
     },
     "execution_count": 30,
     "metadata": {},
     "output_type": "execute_result"
    },
    {
     "data": {
      "image/png": "[encoded data removed]",
      "text/plain": [
       "<Figure size 432x288 with 1 Axes>"
      ]
     },
     "metadata": {
      "needs_background": "light"
     },
     "output_type": "display_data"
    }
   ],
   "source": [
    "plt.plot(fit_result['epo2mse'].keys(), fit_result['epo2mse'].values())"
   ]
  },
  {
   "cell_type": "code",
   "execution_count": 31,
   "metadata": {},
   "outputs": [],
   "source": [
    "y_pred_test_rbfn = rbfnet.predict(x_test)\n",
    "mse_rbfn = mean_squared_error(y_true=y_test, y_pred=y_pred_test_rbfn)"
   ]
  },
  {
   "cell_type": "code",
   "execution_count": 32,
   "metadata": {},
   "outputs": [
    {
     "data": {
      "text/plain": [
       "0.13782741377514224"
      ]
     },
     "execution_count": 32,
     "metadata": {},
     "output_type": "execute_result"
    }
   ],
   "source": [
    "mse_rbfn"
   ]
  },
  {
   "cell_type": "markdown",
   "metadata": {},
   "source": [
    "#### m=200"
   ]
  },
  {
   "cell_type": "code",
   "execution_count": 33,
   "metadata": {
    "tags": []
   },
   "outputs": [
    {
     "name": "stdout",
     "output_type": "stream",
     "text": [
      "m: 200\n",
      "w: [-1.84307625e-01  2.36801708e-01  1.28500321e+00 -7.16675908e-01\n",
      " -3.63702997e-01 -3.79906938e-01 -1.12103211e-01  1.66421100e-01\n",
      "  1.89840152e-01 -7.51845303e-01  3.28527336e-02 -4.85210243e-02\n",
      " -6.69277706e-01 -1.96704110e-03 -1.28675135e+00  1.35705671e+00\n",
      "  8.36380180e-01 -1.88391561e+00  3.64234042e-01 -1.29018816e+00\n",
      " -1.54160984e+00  1.44937753e+00  8.62368433e-01 -1.16879901e+00\n",
      " -2.20910488e+00  9.89391651e-01  4.83008529e-01  7.69157025e-01\n",
      "  1.21862143e-03 -4.48546142e-01 -1.60223115e-03  1.80837828e-01\n",
      " -1.97671382e-01 -1.45998841e-01  5.13289178e-01 -9.48991884e-01\n",
      " -3.38737203e-01  3.88960660e-01  1.40827730e+00 -1.56458102e+00\n",
      "  7.89575813e-01 -3.91093189e-01  5.01660962e-01  1.16775632e+00\n",
      " -5.48737457e-01  3.96178396e-01  1.42223283e+00 -1.37749620e+00\n",
      " -2.39505949e-01 -5.55539604e-01  8.40810399e-01  4.38719297e-01\n",
      "  2.97723648e-01 -1.56761552e+00 -1.86476481e-01 -9.64452538e-01\n",
      "  8.02469712e-01  4.93161735e-01  3.95588198e-01  6.17077217e-02\n",
      " -3.95574088e-01 -1.82756460e-01 -2.04163864e+00 -1.00212197e+00\n",
      "  2.09529992e+00 -3.70776642e+00  4.15837367e-02 -1.56544507e+00\n",
      " -8.75562096e-01 -2.03331452e+00  1.80152433e+00  4.42088606e-01\n",
      " -8.72776664e-02 -2.32937252e-01  1.70671938e-01 -3.45885768e-01\n",
      " -4.84269731e-01 -4.40484490e-01  1.67233000e-01  6.01605086e-01\n",
      "  1.15700372e-02 -3.16009659e+00  1.14298864e+00  5.60739958e-01\n",
      "  1.18414959e-01 -1.54493617e+00  1.30402485e+00 -2.12883696e+00\n",
      " -1.24614637e+00 -2.60009920e-01 -5.29815337e-01 -4.16942908e-01\n",
      "  5.26952493e-01 -1.60210550e+00 -7.45721993e-01 -1.40116821e+00\n",
      "  9.49963944e-01  6.71965543e-01 -5.19262528e-01  3.55782255e-01\n",
      " -1.10494889e+00 -2.19818602e+00  5.01477185e-01  3.84409415e-01\n",
      "  8.37386071e-01 -5.60253969e-01 -1.16029808e+00 -3.72089591e-01\n",
      " -4.84198313e-01 -1.31098851e-01 -1.52548828e+00 -7.95414403e-01\n",
      "  8.81344565e-01  7.48719835e-01 -6.60681689e-01  4.60686549e-03\n",
      "  2.95048639e-01  1.41960572e+00 -2.09244732e+00  1.05558552e+00\n",
      " -5.40248007e-01  1.32444787e+00 -1.08492486e+00  1.60481889e-01\n",
      "  1.05698690e-01 -3.93268875e-01  7.08778897e-01  1.83092122e+00\n",
      "  1.45138502e-01  6.50264120e-01 -1.73791634e-02  8.13380255e-01\n",
      "  7.82099703e-01  3.93291598e-01  5.23006736e-01  8.58765932e-01\n",
      " -1.36243412e+00  4.92239386e-01  6.45573034e-01 -1.57777398e+00\n",
      "  1.04543692e+00  6.88902050e-01  1.46289950e+00 -5.50280937e-01\n",
      "  7.85744137e-01  1.23338513e+00 -5.15198741e-01  1.05711464e+00\n",
      "  9.29162067e-01 -1.68537988e-01  1.34564506e-01 -7.23795813e-03\n",
      "  7.39636083e-01 -3.42826084e-01  8.20794107e-01  3.87398588e-01\n",
      "  3.25833028e-01 -7.69680216e-01  3.39654147e-01 -1.18443696e+00\n",
      "  1.25609797e+00 -1.89222555e-01 -1.21583401e+00 -5.51778057e-01\n",
      " -1.29095375e+00 -1.54879569e-01 -6.54004238e-01  9.23319374e-01\n",
      "  1.75531030e+00  1.25505562e+00 -5.13021264e-02 -1.69075127e+00\n",
      " -7.48185516e-01  4.45172068e-01 -8.68023361e-02  1.61636711e+00\n",
      " -8.48540958e-01  4.47160026e-01 -1.77906272e-01 -1.57305585e+00\n",
      " -1.50993086e+00 -2.32000030e-01  1.98878032e-02  1.17291762e+00\n",
      " -2.06724956e-02  9.92887051e-01  1.23325120e+00 -2.05413580e-01\n",
      "  1.12786968e+00  8.27297740e-01  7.10039565e-01 -5.45085529e-01\n",
      " -1.14404195e+00  1.19236223e+00  8.31004289e-01 -1.08999135e+00\n",
      "  1.21797563e+00 -6.72232015e-01 -1.14231258e-01  6.08828507e-01]\n",
      "b: [-0.74452515]\n",
      "c: [ 8.64531668  2.31389398  6.3621978   3.11412195  8.24419328  4.62297584\n",
      "  2.2329419   5.87157546  4.00319789  1.19712626  9.76762059  1.35919365\n",
      "  6.16503001  3.15015322  3.0709814   0.76882182  4.09112222  0.1878448\n",
      "  8.02501693  0.8918249   0.55171134  1.08850949  8.45986858  8.30278782\n",
      "  0.4534083   9.38359218  3.58149929  0.73381066  7.63401985  7.40103119\n",
      "  1.16452113  2.04051076  0.92526514  1.70863865  4.01808099  3.31131493\n",
      "  3.59241945  4.09327914  5.23219345  3.23932867  3.08784012  7.07470544\n",
      "  4.18431554  1.57745991  4.01728329  1.21365704  4.75366485  0.16679794\n",
      "  5.61114977  5.4619729   3.5777702   9.60078211  3.52546713  0.92173893\n",
      "  1.43736715  3.17342389  6.41421958  7.62788489  4.90500097  9.41064779\n",
      "  2.12715338  7.08562072  5.93839122  4.7671727   2.5723504   3.35598173\n",
      "  4.91095725  0.77275026  4.91977565  8.24427475  4.92508869  0.32601581\n",
      "  8.33385806  7.2729865   0.748418    7.06815141  3.11234218  0.66724114\n",
      "  5.01392146  4.56814025  2.34532645  2.1632267   0.57174997  2.22739699\n",
      "  5.3210965   0.81747875  6.13262698  2.5198761   1.55331824  5.3758091\n",
      "  0.11335369  7.54460949  6.73616149  0.28988584  2.18160316  6.90820714\n",
      "  6.2629378   7.30332523  9.3802956   3.1026547   4.9657581   2.15264787\n",
      "  0.87230779  1.10250447  6.16982469  7.46749135  2.97952932  9.22047743\n",
      "  4.99214478  3.82590834  5.20688144  3.51766141  8.12558785  8.65106102\n",
      "  5.62325824  3.06896442  5.49977375  8.67240045  5.72208669 10.08188344\n",
      "  5.70173462  8.3141659   1.61640585  3.59151983  2.50429002  3.82134296\n",
      "  4.56195795  7.21754655  2.07143016  3.34715837  4.37255279  0.10550079\n",
      "  2.78838774  5.945992    4.40043173  8.56386313  6.77909717  5.41157136\n",
      "  8.83624785  6.18987215  9.62224891  6.83331944  9.2890744   7.07354034\n",
      "  9.06421065  4.43402061  7.42840551  9.82124983  6.30522149  4.62458425\n",
      "  7.80753372  3.84250383  5.56540601  5.74145689  2.05054003  1.66905914\n",
      "  5.82679121  8.51688976  5.07581465  5.98532535  6.12277442  7.24778863\n",
      "  3.02625779  4.06946513  3.07088001  7.4337902   4.47578684  0.1738774\n",
      "  1.03203454  7.09113005  1.12201936  0.57067756  7.66419541  8.54393768\n",
      "  8.80645954  6.55394645  0.29816444  1.33842037  4.87978003  1.59278689\n",
      "  6.59107584  6.53223004  2.02678854  0.94864959  2.26504226  4.85431461\n",
      "  6.27282306  9.60171815  4.20077915  1.16702243  5.50893834  3.68638942\n",
      "  0.35680405  2.08876713  2.16976946  7.73744268  5.41730189  6.00032886\n",
      "  6.750256    7.56016501]\n",
      "eps: [9.50807165e-01 5.78539820e-03 5.84123640e-01 4.86317054e-01\n",
      " 4.41544054e-01 5.77533413e-01 2.01532465e-01 1.84910111e-01\n",
      " 2.11358664e-02 7.76027065e-01 9.63527577e-02 9.40781624e-01\n",
      " 2.51454887e-01 4.89522057e-01 2.03492312e-01 9.99573398e-01\n",
      " 1.33612335e-06 4.59077189e-01 4.18459190e-01 2.22897047e-01\n",
      " 5.67793155e-01 6.94893150e-01 1.27870668e-01 8.24900762e-01\n",
      " 4.37065982e-01 7.64706872e-01 3.86829779e-01 9.91465770e-01\n",
      " 7.30165826e-01 8.50879130e-01 3.51546641e-01 5.29994062e-01\n",
      " 7.73252009e-01 2.25408663e-01 2.78049242e-04 6.23921893e-01\n",
      " 5.96738796e-01 3.42371912e-01 9.13992901e-01 2.10564810e-01\n",
      " 8.30675172e-01 3.44396713e-01 4.28298138e-01 1.70427610e-18\n",
      " 9.33988008e-01 4.98155242e-01 1.56249451e-07 7.98249431e-01\n",
      " 5.03365563e-01 5.92969886e-01 8.21795851e-01 8.87413182e-01\n",
      " 4.42210451e-04 7.02277190e-01 5.56531532e-01 3.96230136e-01\n",
      " 6.58334843e-02 2.16007536e-01 3.09440401e-02 9.89340822e-01\n",
      " 2.49354234e-01 4.99680105e-01 6.36914303e-01 6.44948356e-01\n",
      " 7.43055749e-01 2.28730814e-01 7.09061755e-01 4.30898676e-01\n",
      " 4.50409261e-01 8.49857770e-01 8.49725115e-01 2.54495462e-01\n",
      " 6.73465955e-01 7.29455465e-01 5.77703630e-01 4.85447802e-01\n",
      " 5.52195683e-01 3.15614839e-01 1.24532300e-02 4.67788382e-04\n",
      " 4.98940023e-01 2.24401867e-01 1.34618656e-24 5.87749733e-07\n",
      " 9.74062226e-01 2.49080869e-01 6.11967246e-01 7.09443249e-01\n",
      " 2.15434703e-01 5.89510640e-01 6.64310655e-01 4.80344597e-01\n",
      " 5.07654512e-01 8.26264634e-01 8.72799624e-01 4.54233496e-01\n",
      " 1.03383977e-01 8.81052971e-01 6.04642764e-01 6.96572086e-01\n",
      " 7.92001996e-01 1.22823297e+00 6.01344347e-01 4.31399621e-01\n",
      " 1.93686456e-02 5.12054270e-01 5.75953886e-01 5.00891246e-01\n",
      " 6.88752792e-01 3.92259256e-01 5.98088942e-01 8.06826078e-01\n",
      " 1.26928047e-01 1.17343860e-01 8.38728713e-01 4.64782501e-01\n",
      " 9.86392598e-03 1.65998138e-01 7.46132075e-01 8.24007295e-01\n",
      " 7.37543214e-01 1.69506920e-01 3.58889540e-01 7.13952813e-01\n",
      " 4.42228984e-01 1.04182377e+00 5.62115987e-04 2.87920992e-02\n",
      " 5.41823743e-01 1.01394325e-06 2.50265896e-01 3.71395121e-01\n",
      " 5.32878337e-01 6.79152933e-02 9.52399900e-01 4.86710618e-01\n",
      " 4.17650789e-01 9.62951730e-01 2.89580193e-01 4.80566257e-01\n",
      " 7.00518299e-01 4.61528532e-01 1.79995075e-01 1.03729892e+00\n",
      " 4.79586221e-01 8.88625407e-08 3.83196871e-01 1.75632876e-01\n",
      " 3.15050259e-02 6.38224564e-01 2.89563993e-01 9.06902315e-01\n",
      " 4.86313102e-01 5.14752362e-01 6.71970083e-11 6.74663692e-01\n",
      " 8.86774115e-01 4.58612018e-01 7.01669974e-01 5.45060803e-01\n",
      " 3.11361555e-02 7.09248101e-01 6.54882057e-01 4.87382783e-01\n",
      " 5.34196146e-01 6.21564822e-01 8.41760976e-01 4.04466838e-01\n",
      " 2.58221886e-34 1.20688403e-01 4.28899373e-01 5.56209970e-01\n",
      " 4.65752570e-01 6.29987160e-01 8.92156272e-01 8.27585618e-01\n",
      " 4.97277289e-01 3.83729253e-01 2.29045841e-01 2.09583760e-01\n",
      " 8.15045671e-01 3.04492271e-01 5.77871149e-01 1.63303900e-21\n",
      " 9.97068777e-01 6.75155131e-05 5.65792010e-01 5.96696594e-01\n",
      " 1.61527672e-07 9.98981366e-15 2.65662267e-03 2.85156216e-01\n",
      " 7.86533245e-01 7.34008743e-01 1.77994817e-11 6.25009545e-01\n",
      " 8.36069587e-01 7.22392336e-01 7.79477887e-01 6.74108219e-01]\n"
     ]
    }
   ],
   "source": [
    "rbfnet = RBFNet(lr=1e-4, m=200, epochs=1000)\n",
    "fit_result = rbfnet.fit(x_train, y_train)\n",
    "for k, v in fit_result.items():\n",
    "    if k != 'epo2mse':\n",
    "        print('{}: {}'.format(k, v))"
   ]
  },
  {
   "cell_type": "code",
   "execution_count": 34,
   "metadata": {},
   "outputs": [
    {
     "data": {
      "text/plain": [
       "[<matplotlib.lines.Line2D at 0x24782e62940>]"
      ]
     },
     "execution_count": 34,
     "metadata": {},
     "output_type": "execute_result"
    },
    {
     "data": {
      "image/png": "[encoded data removed]",
      "text/plain": [
       "<Figure size 432x288 with 1 Axes>"
      ]
     },
     "metadata": {
      "needs_background": "light"
     },
     "output_type": "display_data"
    }
   ],
   "source": [
    "plt.plot(fit_result['epo2mse'].keys(), fit_result['epo2mse'].values())"
   ]
  },
  {
   "cell_type": "code",
   "execution_count": 35,
   "metadata": {},
   "outputs": [],
   "source": [
    "y_pred_test_rbfn = rbfnet.predict(x_test)\n",
    "mse_rbfn = mean_squared_error(y_true=y_test, y_pred=y_pred_test_rbfn)"
   ]
  },
  {
   "cell_type": "code",
   "execution_count": 36,
   "metadata": {},
   "outputs": [
    {
     "data": {
      "text/plain": [
       "0.2331168966545909"
      ]
     },
     "execution_count": 36,
     "metadata": {},
     "output_type": "execute_result"
    }
   ],
   "source": [
    "mse_rbfn"
   ]
  },
  {
   "cell_type": "markdown",
   "metadata": {},
   "source": [
    "#### Fixed $\\epsilon$"
   ]
  },
  {
   "cell_type": "code",
   "execution_count": 39,
   "metadata": {
    "tags": []
   },
   "outputs": [
    {
     "name": "stdout",
     "output_type": "stream",
     "text": [
      "m: 20\n",
      "w: [ 2.37292341  0.61020881  2.24332625  2.81778595 -1.72020536 -1.58392616\n",
      " -0.94722549 -1.62575822 -1.50926497 -1.81346217 -1.96363625 -1.58876241\n",
      " -0.36722342  2.71744391 -0.56580637  1.71038539  1.94010825 -0.97748119\n",
      "  2.59842903  2.48641856]\n",
      "b: [14.94316142]\n",
      "c: [12.01506834  3.98387022 12.026476   12.03557365  3.14165832  3.14087703\n",
      "  3.13551688  3.14121525  3.14033996  3.14210943  3.14272152  3.1409845\n",
      "  4.12948933 12.0618053   4.76122903 11.96547082 11.98901568  5.52833405\n",
      " 12.05075874 12.03021867]\n",
      "eps: [1. 1. 1. 1. 1. 1. 1. 1. 1. 1. 1. 1. 1. 1. 1. 1. 1. 1. 1. 1.]\n"
     ]
    }
   ],
   "source": [
    "rbfnet = RBFNet(lr=1e-4, m=20, epochs=1000)\n",
    "fit_result = rbfnet.fit(x_train, y_train, fixed_eps=1)\n",
    "for k, v in fit_result.items():\n",
    "    if k != 'epo2mse':\n",
    "        print('{}: {}'.format(k, v))"
   ]
  },
  {
   "cell_type": "code",
   "execution_count": 40,
   "metadata": {},
   "outputs": [
    {
     "data": {
      "text/plain": [
       "[<matplotlib.lines.Line2D at 0x24784662f70>]"
      ]
     },
     "execution_count": 40,
     "metadata": {},
     "output_type": "execute_result"
    },
    {
     "data": {
      "image/png": "[encoded data removed]",
      "text/plain": [
       "<Figure size 432x288 with 1 Axes>"
      ]
     },
     "metadata": {
      "needs_background": "light"
     },
     "output_type": "display_data"
    }
   ],
   "source": [
    "plt.plot(fit_result['epo2mse'].keys(), fit_result['epo2mse'].values())"
   ]
  },
  {
   "cell_type": "code",
   "execution_count": 41,
   "metadata": {},
   "outputs": [],
   "source": [
    "y_pred_test_rbfn = rbfnet.predict(x_test)\n",
    "mse_rbfn = mean_squared_error(y_true=y_test, y_pred=y_pred_test_rbfn)"
   ]
  },
  {
   "cell_type": "code",
   "execution_count": 42,
   "metadata": {},
   "outputs": [
    {
     "data": {
      "text/plain": [
       "120.03517951926032"
      ]
     },
     "execution_count": 42,
     "metadata": {},
     "output_type": "execute_result"
    }
   ],
   "source": [
    "mse_rbfn"
   ]
  },
  {
   "cell_type": "code",
   "execution_count": null,
   "metadata": {},
   "outputs": [],
   "source": []
  }
 ],
 "metadata": {
  "kernelspec": {
   "display_name": "Python 3",
   "language": "python",
   "name": "python3"
  },
  "language_info": {
   "codemirror_mode": {
    "name": "ipython",
    "version": 3
   },
   "file_extension": ".py",
   "mimetype": "text/x-python",
   "name": "python",
   "nbconvert_exporter": "python",
   "pygments_lexer": "ipython3",
   "version": "3.8.3"
  }
 },
 "nbformat": 4,
 "nbformat_minor": 4
}
